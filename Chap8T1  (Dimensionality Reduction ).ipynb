{
 "cells": [
  {
   "cell_type": "markdown",
   "metadata": {},
   "source": [
    "# ***Dimensionality Reduction*** #"
   ]
  },
  {
   "cell_type": "markdown",
   "metadata": {},
   "source": [
    "- ## **Curse of Dimensionality** ##\n",
    "The curse of dimensionality refers to the problems that arise when analyzing and organizing data in high-dimensional spaces. As the number of dimensions (features) increases, the volume of the space increases exponentially, making data points sparse and analysis more difficult. This sparsity complicates tasks such as clustering, classification, and regression because the distance between data points becomes less meaningful, leading to poor model performance and overfitting.\n",
    "\n",
    "- ## **Projection** ##\n",
    "Projection is a technique used to reduce the number of dimensions in a dataset by transforming the data into a lower-dimensional space. This is typically achieved using linear methods like Principal Component Analysis (PCA), which identifies the directions (principal components) that capture the most variance in the data. By projecting the data onto these principal components, we simplify the data while retaining as much important information as possible, making it easier to visualize and analyze.\n",
    "\n",
    "- ## **Manifold Learning** ##\n",
    "Manifold learning is a non-linear dimensionality reduction technique that aims to uncover the low-dimensional structure of high-dimensional data. It assumes that high-dimensional data lies on a lower-dimensional manifold embedded within the higher-dimensional space. Techniques like t-SNE and UMAP preserve the local and global geometric relationships within the data, allowing us to visualize and understand the intrinsic structure of complex datasets by reducing them to fewer dimensions while retaining essential patterns and relationships."
   ]
  },
  {
   "cell_type": "markdown",
   "metadata": {},
   "source": [
    "## **PCA (Principal component Analysis)** ##"
   ]
  },
  {
   "cell_type": "markdown",
   "metadata": {},
   "source": [
    "- PCA finds the hyperplane (plane with dimension one less that on high dimensional space) closes to data and preservers maximum variance. It will most likely retain most information.\n",
    "- There is standard matrix factorization technique known as Singular Value Decomposition (SVD) that decomposes training set into 3 which out of which one contains the unit vectors that define all principle components"
   ]
  },
  {
   "cell_type": "code",
   "execution_count": 39,
   "metadata": {},
   "outputs": [
    {
     "name": "stderr",
     "output_type": "stream",
     "text": [
      "c:\\Users\\Abdullah Bin Salman\\AppData\\Local\\Programs\\Python\\Python312\\Lib\\site-packages\\sklearn\\datasets\\_openml.py:1022: FutureWarning: The default value of `parser` will change from `'liac-arff'` to `'auto'` in 1.4. You can set `parser='auto'` to silence this warning. Therefore, an `ImportError` will be raised from 1.4 if the dataset is dense and pandas is not installed. Note that the pandas parser may return different data types. See the Notes Section in fetch_openml's API doc for details.\n",
      "  warn(\n"
     ]
    },
    {
     "name": "stdout",
     "output_type": "stream",
     "text": [
      "Shape of X: (70000, 784)\n",
      "Shape of y: (70000,)\n"
     ]
    }
   ],
   "source": [
    "import pandas as pd \n",
    "import numpy as np \n",
    "import matplotlib.pyplot as plt\n",
    "from sklearn.datasets import fetch_openml\n",
    "from sklearn.decomposition import PCA\n",
    "\n",
    "\n",
    "# Load the MNIST dataset\n",
    "mnist = fetch_openml('mnist_784', version=1)\n",
    "\n",
    "# Extract features and labels\n",
    "X, y = mnist[\"data\"], mnist[\"target\"]\n",
    "\n",
    "# Convert labels to integers\n",
    "y = y.astype(int)\n",
    "\n",
    "# Print the shapes to verify\n",
    "print(\"Shape of X:\", X.shape)\n",
    "print(\"Shape of y:\", y.shape)\n"
   ]
  },
  {
   "cell_type": "code",
   "execution_count": 45,
   "metadata": {},
   "outputs": [],
   "source": [
    "X_centered=X-X.mean(axis=0)\n",
    "princ_comp_analysis=PCA(n_components=0.95)\n",
    "X2D=princ_comp_analysis.fit_transform(X)\n",
    "c1=princ_comp_analysis.components_.T[:,0].reshape(28,28)\n",
    "c2=princ_comp_analysis.components_.T[:,1].reshape(28,28)"
   ]
  },
  {
   "cell_type": "code",
   "execution_count": 50,
   "metadata": {},
   "outputs": [
    {
     "data": {
      "text/plain": [
       "(70000, 154)"
      ]
     },
     "execution_count": 50,
     "metadata": {},
     "output_type": "execute_result"
    }
   ],
   "source": [
    "X2D.shape"
   ]
  },
  {
   "cell_type": "code",
   "execution_count": 46,
   "metadata": {},
   "outputs": [],
   "source": [
    "fpc=princ_comp_analysis.components_.T[:,0]"
   ]
  },
  {
   "cell_type": "code",
   "execution_count": 47,
   "metadata": {},
   "outputs": [
    {
     "data": {
      "text/plain": [
       "array([0.09746116, 0.07155445, 0.06149531, 0.05403385, 0.04888934,\n",
       "       0.04305227, 0.03278262, 0.02889642, 0.02758364, 0.0234214 ,\n",
       "       0.02106689, 0.02037553, 0.01707064, 0.0169402 , 0.01583382,\n",
       "       0.01486345, 0.01319358, 0.01279014, 0.01187272, 0.01152937,\n",
       "       0.0106604 , 0.01009794, 0.00959151, 0.00909635, 0.00883287,\n",
       "       0.00838818, 0.00809832, 0.00785718, 0.00740262, 0.00690014,\n",
       "       0.00656144, 0.0064547 , 0.00600819, 0.00585612, 0.00566754,\n",
       "       0.00543471, 0.00504717, 0.00487079, 0.00478955, 0.00467594,\n",
       "       0.00454369, 0.00444918, 0.00418217, 0.00396164, 0.00383708,\n",
       "       0.00375785, 0.00361426, 0.00349025, 0.00338732, 0.00319696,\n",
       "       0.00316854, 0.00310145, 0.0029648 , 0.00287101, 0.00282514,\n",
       "       0.00269423, 0.00268392, 0.00256509, 0.00253168, 0.00244648,\n",
       "       0.00239702, 0.00238581, 0.00229234, 0.00220949, 0.0021306 ,\n",
       "       0.00206317, 0.00202781, 0.00195035, 0.00191471, 0.0018855 ,\n",
       "       0.00186976, 0.00180104, 0.00176787, 0.00173359, 0.00164849,\n",
       "       0.00163237, 0.00161408, 0.00154304, 0.0014702 , 0.00142199,\n",
       "       0.00141016, 0.00140146, 0.00139605, 0.00135025, 0.00132371,\n",
       "       0.00131893, 0.00129197, 0.00125172, 0.00122529, 0.00120419,\n",
       "       0.00116363, 0.00114319, 0.00112547, 0.00109862, 0.00108343,\n",
       "       0.00107175, 0.00103692, 0.00103418, 0.00100591, 0.00099933,\n",
       "       0.00097674, 0.00094161, 0.00093583, 0.00091166, 0.00090074,\n",
       "       0.0008895 , 0.00086158, 0.00085255, 0.000841  , 0.00081723,\n",
       "       0.00078602, 0.0007775 , 0.00077581, 0.00076479, 0.00076057,\n",
       "       0.00074879, 0.00073024, 0.00072536, 0.00071584, 0.00070341,\n",
       "       0.00069175, 0.00068692, 0.00067938, 0.00067174, 0.00066127,\n",
       "       0.00064267, 0.00063277, 0.0006284 , 0.00061963, 0.0006014 ,\n",
       "       0.00060026, 0.00059379, 0.00058628, 0.00058345, 0.0005789 ,\n",
       "       0.00057275, 0.00056338, 0.0005523 , 0.00053557, 0.00052572,\n",
       "       0.00052274, 0.0005099 , 0.0005023 , 0.00049814, 0.00049585,\n",
       "       0.00049234, 0.00048378, 0.0004809 , 0.00047157, 0.00046671,\n",
       "       0.00046423, 0.00046199, 0.00045828, 0.0004495 ])"
      ]
     },
     "execution_count": 47,
     "metadata": {},
     "output_type": "execute_result"
    }
   ],
   "source": [
    "princ_comp_analysis.explained_variance_ratio_"
   ]
  },
  {
   "cell_type": "markdown",
   "metadata": {},
   "source": [
    "- **We can compress the 784 features into over 150 featuers are you can see the shape of the compressed data, and then we can make the original dataset from this using inverse transform but it would not be 100% identical due to loss of information**"
   ]
  },
  {
   "cell_type": "code",
   "execution_count": 53,
   "metadata": {},
   "outputs": [
    {
     "name": "stdout",
     "output_type": "stream",
     "text": [
      "The shape of compressed dataset is (70000, 154) !\n",
      "The shape of un-compressed dataset is (70000, 784) !\n"
     ]
    }
   ],
   "source": [
    "pca=PCA(n_components=154)\n",
    "x_compressed=pca.fit_transform(X)\n",
    "x_decompressed=pca.inverse_transform(x_compressed)\n",
    "print (f\"The shape of compressed dataset is {x_compressed.shape} !\")\n",
    "print (f\"The shape of un-compressed dataset is {x_decompressed.shape} !\")"
   ]
  },
  {
   "cell_type": "code",
   "execution_count": 48,
   "metadata": {},
   "outputs": [
    {
     "data": {
      "text/plain": [
       "array([[ 4.79861877e-20,  0.00000000e+00,  5.55111512e-17,\n",
       "         0.00000000e+00,  0.00000000e+00,  0.00000000e+00,\n",
       "         0.00000000e+00, -3.46944695e-18,  0.00000000e+00,\n",
       "         0.00000000e+00, -5.42101086e-20, -1.35525272e-20,\n",
       "        -9.45584907e-07, -3.72373918e-06, -1.83973346e-06,\n",
       "        -7.66555609e-08,  0.00000000e+00,  0.00000000e+00,\n",
       "         0.00000000e+00,  0.00000000e+00,  0.00000000e+00,\n",
       "         0.00000000e+00,  0.00000000e+00,  0.00000000e+00,\n",
       "         0.00000000e+00,  0.00000000e+00,  0.00000000e+00,\n",
       "         0.00000000e+00],\n",
       "       [ 0.00000000e+00,  0.00000000e+00,  0.00000000e+00,\n",
       "         0.00000000e+00,  2.16824828e-07,  4.29492620e-07,\n",
       "         4.87706215e-06,  1.65229866e-05,  2.20363253e-05,\n",
       "         3.88808469e-05,  7.40607809e-05,  8.83248604e-05,\n",
       "         8.08496291e-05,  8.95693486e-05,  1.06176520e-04,\n",
       "         7.93597126e-05,  3.60812098e-05,  3.08090474e-05,\n",
       "         2.39076582e-05,  3.64534622e-06, -2.94191043e-06,\n",
       "         1.88455271e-06,  1.14903055e-06,  4.83408762e-07,\n",
       "         0.00000000e+00,  0.00000000e+00,  0.00000000e+00,\n",
       "         0.00000000e+00],\n",
       "       [ 0.00000000e+00,  0.00000000e+00,  1.71354554e-06,\n",
       "         9.42407653e-07,  3.40969467e-06,  4.85926722e-08,\n",
       "         2.87489946e-05,  7.30567651e-05,  1.77423353e-04,\n",
       "         3.68527184e-04,  5.75875040e-04,  9.40429455e-04,\n",
       "         1.45564026e-03,  2.13484423e-03,  2.64501965e-03,\n",
       "         2.75305697e-03,  2.62855654e-03,  2.16714953e-03,\n",
       "         1.44465509e-03,  9.12305031e-04,  5.35454839e-04,\n",
       "         2.34545898e-04,  1.03776382e-04,  3.08892471e-05,\n",
       "         8.67705785e-06,  3.42198796e-06,  0.00000000e+00,\n",
       "         0.00000000e+00],\n",
       "       [ 0.00000000e+00,  0.00000000e+00,  2.28566290e-06,\n",
       "         6.83061072e-06,  1.48464976e-05,  6.33102872e-05,\n",
       "         1.05236655e-04,  2.19780840e-04,  5.18593755e-04,\n",
       "         1.08768643e-03,  1.93461447e-03,  3.21328196e-03,\n",
       "         5.00341917e-03,  7.16014897e-03,  9.07716078e-03,\n",
       "         1.01293500e-02,  9.60086940e-03,  7.59325119e-03,\n",
       "         5.54858977e-03,  3.69635668e-03,  2.30884365e-03,\n",
       "         1.13275348e-03,  5.63557789e-04,  1.78018610e-04,\n",
       "         2.80278289e-05,  6.45089595e-07, -3.63080748e-06,\n",
       "         0.00000000e+00],\n",
       "       [ 0.00000000e+00,  1.45381235e-07, -4.28688011e-06,\n",
       "         1.40903202e-05,  4.95235602e-05,  1.85108077e-04,\n",
       "         4.80496803e-04,  1.09254858e-03,  2.47599210e-03,\n",
       "         4.97085097e-03,  8.58295362e-03,  1.34622680e-02,\n",
       "         1.89891496e-02,  2.44323336e-02,  2.81798249e-02,\n",
       "         3.10833293e-02,  3.08986449e-02,  2.66575775e-02,\n",
       "         2.09677211e-02,  1.47269066e-02,  8.93260416e-03,\n",
       "         5.00855118e-03,  2.46377074e-03,  9.79984308e-04,\n",
       "         2.58406161e-04,  1.19282224e-05, -1.04260079e-05,\n",
       "        -2.84061200e-06],\n",
       "       [ 0.00000000e+00, -1.88719004e-09,  3.48865399e-06,\n",
       "         1.53628400e-05,  2.00933290e-04,  6.98155852e-04,\n",
       "         1.61129069e-03,  3.52512455e-03,  7.25707125e-03,\n",
       "         1.37836523e-02,  2.30666007e-02,  3.47044524e-02,\n",
       "         4.57384076e-02,  5.28406800e-02,  5.54862436e-02,\n",
       "         5.55294141e-02,  5.47760388e-02,  5.18735742e-02,\n",
       "         4.59852986e-02,  3.70493928e-02,  2.57593495e-02,\n",
       "         1.55629929e-02,  7.94939123e-03,  3.22166504e-03,\n",
       "         8.99333119e-04,  1.47255567e-05, -7.41571514e-06,\n",
       "        -4.86562853e-06],\n",
       "       [ 0.00000000e+00, -9.84658046e-08, -4.10558168e-06,\n",
       "         2.55713803e-05,  4.45047209e-04,  1.32810056e-03,\n",
       "         2.85080011e-03,  6.49564581e-03,  1.33209201e-02,\n",
       "         2.53025781e-02,  4.15677484e-02,  5.88214023e-02,\n",
       "         6.95738281e-02,  6.99828806e-02,  6.26495930e-02,\n",
       "         5.47820182e-02,  5.21706922e-02,  5.56991158e-02,\n",
       "         5.94978656e-02,  5.70615033e-02,  4.66470534e-02,\n",
       "         3.10747478e-02,  1.62266270e-02,  6.21810665e-03,\n",
       "         1.45835904e-03,  2.79693480e-05, -5.36766336e-05,\n",
       "        -1.93042603e-05],\n",
       "       [-5.46738209e-07, -8.73907595e-06, -3.04726346e-05,\n",
       "         1.11254232e-05,  4.62203861e-04,  1.41806834e-03,\n",
       "         3.61160474e-03,  9.21608226e-03,  2.00959473e-02,\n",
       "         3.71419249e-02,  5.65756292e-02,  7.15955579e-02,\n",
       "         7.33300779e-02,  6.03858882e-02,  4.06988078e-02,\n",
       "         2.44693116e-02,  2.12244066e-02,  3.18040192e-02,\n",
       "         4.92255436e-02,  6.13304717e-02,  6.00213454e-02,\n",
       "         4.50898214e-02,  2.55012574e-02,  9.26888861e-03,\n",
       "         1.49920859e-03, -2.48859504e-04, -1.18619738e-04,\n",
       "        -1.52340505e-05],\n",
       "       [-2.80696818e-06, -1.19040650e-05, -4.17128617e-05,\n",
       "         1.17581507e-05,  4.33042764e-04,  1.36709961e-03,\n",
       "         4.70299999e-03,  1.32964003e-02,  2.87130760e-02,\n",
       "         4.84750920e-02,  6.56582257e-02,  7.15894768e-02,\n",
       "         6.13933592e-02,  3.74400082e-02,  8.87284668e-03,\n",
       "        -1.18079565e-02, -1.47545207e-02,  6.07976735e-04,\n",
       "         2.91156786e-02,  5.62513595e-02,  6.67669225e-02,\n",
       "         5.59451044e-02,  3.43615899e-02,  1.29679418e-02,\n",
       "         1.61055723e-03, -6.88412651e-04, -1.96150615e-04,\n",
       "        -2.15131781e-05],\n",
       "       [-6.61093513e-06, -2.27955056e-05, -3.88707823e-05,\n",
       "         3.85637419e-05,  5.08622623e-04,  2.14737425e-03,\n",
       "         8.13149397e-03,  2.13214020e-02,  4.07614820e-02,\n",
       "         6.10775851e-02,  7.16548616e-02,  6.66514062e-02,\n",
       "         4.70885249e-02,  1.72504716e-02, -1.59556764e-02,\n",
       "        -3.84412456e-02, -4.05387956e-02, -2.19961810e-02,\n",
       "         1.29400061e-02,  5.04134633e-02,  7.00730536e-02,\n",
       "         6.49264083e-02,  4.33418381e-02,  1.83281354e-02,\n",
       "         3.00184503e-03, -5.83847968e-04, -1.60280720e-04,\n",
       "        -2.68664927e-05],\n",
       "       [-8.25518050e-06, -1.57301184e-05,  5.73804496e-06,\n",
       "         1.67250110e-04,  1.01091344e-03,  4.58511594e-03,\n",
       "         1.47728465e-02,  3.33971366e-02,  5.62564585e-02,\n",
       "         7.34803269e-02,  7.47507767e-02,  6.08117243e-02,\n",
       "         3.67163421e-02,  4.26672947e-03, -3.10717502e-02,\n",
       "        -5.35797949e-02, -5.24784895e-02, -3.17536975e-02,\n",
       "         6.51221231e-03,  4.90969074e-02,  7.35337786e-02,\n",
       "         7.15662588e-02,  5.14430061e-02,  2.47330227e-02,\n",
       "         5.72137467e-03, -1.56747699e-04, -1.00774747e-04,\n",
       "        -1.78809679e-05],\n",
       "       [-4.59366351e-06, -1.65707136e-05,  4.10801650e-05,\n",
       "         3.22358236e-04,  1.75050236e-03,  8.30344194e-03,\n",
       "         2.34736112e-02,  4.72523194e-02,  7.09478439e-02,\n",
       "         8.19527905e-02,  7.40053005e-02,  5.41795802e-02,\n",
       "         2.91372263e-02, -4.84548291e-03, -4.21739121e-02,\n",
       "        -6.00945700e-02, -5.29244989e-02, -2.71269340e-02,\n",
       "         1.24618134e-02,  5.45722723e-02,  7.82232210e-02,\n",
       "         7.67081835e-02,  5.68458742e-02,  3.03059182e-02,\n",
       "         8.40275871e-03,  1.24433802e-04, -3.49876293e-05,\n",
       "        -9.35202547e-06],\n",
       "       [-2.48414648e-06, -5.47649279e-06,  4.36047200e-05,\n",
       "         4.03335456e-04,  2.54146623e-03,  1.25338406e-02,\n",
       "         3.33641460e-02,  6.07756255e-02,  8.20114370e-02,\n",
       "         8.46399121e-02,  6.88849923e-02,  4.56708026e-02,\n",
       "         2.07275694e-02, -1.64777517e-02, -5.25039843e-02,\n",
       "        -6.23273384e-02, -4.58045372e-02, -1.21392417e-02,\n",
       "         2.84772758e-02,  6.50246021e-02,  8.33575547e-02,\n",
       "         7.95494664e-02,  6.00886860e-02,  3.41329207e-02,\n",
       "         1.06348599e-02,  3.82490285e-04, -6.87558264e-06,\n",
       "        -6.54188037e-06],\n",
       "       [-1.34409654e-06, -3.64993689e-07,  3.36755625e-05,\n",
       "         3.88382737e-04,  3.57495065e-03,  1.80547391e-02,\n",
       "         4.35283748e-02,  7.21406691e-02,  8.83442398e-02,\n",
       "         8.17056026e-02,  5.90721163e-02,  3.39429577e-02,\n",
       "         8.44405192e-03, -3.32137571e-02, -6.21434890e-02,\n",
       "        -6.41184723e-02, -3.48443354e-02,  4.99714485e-03,\n",
       "         4.47684456e-02,  7.56116904e-02,  8.79197974e-02,\n",
       "         8.17691529e-02,  6.20259548e-02,  3.62647159e-02,\n",
       "         1.21054547e-02,  5.44685819e-04, -3.77767357e-05,\n",
       "        -8.35413457e-06],\n",
       "       [ 1.20700473e-07,  1.25314741e-06,  2.32491437e-05,\n",
       "         3.83116482e-04,  5.08856414e-03,  2.43064487e-02,\n",
       "         5.27605015e-02,  8.04760463e-02,  9.04399041e-02,\n",
       "         7.56970546e-02,  4.70189890e-02,  2.02126183e-02,\n",
       "        -7.54540589e-03, -4.98957396e-02, -7.05183807e-02,\n",
       "        -6.48264108e-02, -2.53673526e-02,  1.46174603e-02,\n",
       "         5.37697510e-02,  8.21796130e-02,  9.13202917e-02,\n",
       "         8.37319911e-02,  6.25214049e-02,  3.63697976e-02,\n",
       "         1.26444123e-02,  7.89099291e-04, -3.63293744e-05,\n",
       "        -1.57817292e-06],\n",
       "       [ 1.61437048e-08,  1.92806028e-06,  2.25188861e-05,\n",
       "         4.70432229e-04,  7.12524385e-03,  3.08716748e-02,\n",
       "         6.07617534e-02,  8.56377952e-02,  9.05654099e-02,\n",
       "         7.02516443e-02,  3.87860346e-02,  1.02449459e-02,\n",
       "        -2.12341788e-02, -5.93477256e-02, -7.55224911e-02,\n",
       "        -6.22539768e-02, -2.06938098e-02,  1.87207439e-02,\n",
       "         5.85210019e-02,  8.60963366e-02,  9.44159544e-02,\n",
       "         8.47473771e-02,  6.15753753e-02,  3.40784167e-02,\n",
       "         1.14089447e-02,  8.08684794e-04, -4.43300687e-05,\n",
       "        -8.35240777e-06],\n",
       "       [-1.33586794e-07,  4.59370353e-07,  4.39900068e-05,\n",
       "         6.67087999e-04,  9.45079717e-03,  3.66232580e-02,\n",
       "         6.61303781e-02,  8.86781621e-02,  9.03149790e-02,\n",
       "         6.74702619e-02,  3.46063474e-02,  3.98515812e-03,\n",
       "        -2.90304028e-02, -6.18294539e-02, -7.56513429e-02,\n",
       "        -5.68093045e-02, -1.69992332e-02,  2.50213823e-02,\n",
       "         6.57397029e-02,  9.18868760e-02,  9.82380987e-02,\n",
       "         8.38181020e-02,  5.71552312e-02,  2.90568043e-02,\n",
       "         8.86076096e-03,  6.07155648e-04, -8.98310520e-05,\n",
       "        -9.56924801e-06],\n",
       "       [ 0.00000000e+00, -2.23963052e-06,  6.74220934e-05,\n",
       "         1.04278742e-03,  1.22052116e-02,  4.07277939e-02,\n",
       "         6.86548690e-02,  8.89254824e-02,  8.84054293e-02,\n",
       "         6.57288850e-02,  3.20826909e-02, -9.16981151e-04,\n",
       "        -3.26478117e-02, -6.15233038e-02, -7.00950466e-02,\n",
       "        -4.66255160e-02, -4.75349995e-03,  4.12324088e-02,\n",
       "         7.98862679e-02,  1.00844391e-01,  1.00015753e-01,\n",
       "         7.83628232e-02,  4.86831110e-02,  2.22883620e-02,\n",
       "         5.95052484e-03,  3.60184496e-04, -1.00177374e-04,\n",
       "        -1.05004525e-05],\n",
       "       [-3.36329152e-06, -3.03171600e-07,  1.17163345e-04,\n",
       "         1.73804827e-03,  1.44600192e-02,  4.20502973e-02,\n",
       "         6.85729178e-02,  8.71461930e-02,  8.65124742e-02,\n",
       "         6.48214910e-02,  3.15656346e-02, -2.48364318e-03,\n",
       "        -3.24296470e-02, -5.58931486e-02, -5.55452129e-02,\n",
       "        -2.55150719e-02,  2.04373349e-02,  6.56747121e-02,\n",
       "         9.70839604e-02,  1.07707092e-01,  9.47125613e-02,\n",
       "         6.65551956e-02,  3.75569842e-02,  1.52444440e-02,\n",
       "         3.51518714e-03,  1.86247493e-04, -6.31094231e-05,\n",
       "        -1.12294059e-05],\n",
       "       [-5.89585169e-07, -9.01931821e-06,  1.64652431e-04,\n",
       "         2.25087287e-03,  1.49150082e-02,  4.06705171e-02,\n",
       "         6.65806940e-02,  8.52894269e-02,  8.71652801e-02,\n",
       "         6.95243217e-02,  3.83517315e-02,  5.96607983e-03,\n",
       "        -2.05908229e-02, -3.60121455e-02, -2.73976056e-02,\n",
       "         6.62325925e-03,  5.18931797e-02,  8.92147853e-02,\n",
       "         1.07570678e-01,  1.02623883e-01,  7.94114092e-02,\n",
       "         5.03572254e-02,  2.52805477e-02,  9.11088616e-03,\n",
       "         1.80571401e-03,  6.31170058e-05, -4.32850465e-05,\n",
       "        -6.07880597e-06],\n",
       "       [ 0.00000000e+00, -1.07752214e-06,  1.94391060e-04,\n",
       "         2.22863760e-03,  1.28105057e-02,  3.45840925e-02,\n",
       "         6.03666301e-02,  8.13078773e-02,  8.87942506e-02,\n",
       "         7.89653739e-02,  5.51820405e-02,  2.84568810e-02,\n",
       "         6.73139734e-03, -2.62629855e-03,  9.94989133e-03,\n",
       "         4.10795264e-02,  7.65410067e-02,  9.88401512e-02,\n",
       "         1.00085043e-01,  8.24853728e-02,  5.63749431e-02,\n",
       "         3.16422189e-02,  1.41028564e-02,  4.71847243e-03,\n",
       "         8.85583287e-04,  2.02363845e-05, -2.81148113e-05,\n",
       "        -2.38198444e-06],\n",
       "       [-1.31166186e-06,  4.01569888e-06,  1.62165997e-04,\n",
       "         1.72242637e-03,  8.76525673e-03,  2.46019332e-02,\n",
       "         4.68678763e-02,  6.93252414e-02,  8.24088791e-02,\n",
       "         8.18659206e-02,  6.88579544e-02,  5.01550162e-02,\n",
       "         3.55493675e-02,  3.02497307e-02,  3.99369931e-02,\n",
       "         6.07049439e-02,  7.95378825e-02,  8.50557377e-02,\n",
       "         7.36304900e-02,  5.31240766e-02,  3.20417072e-02,\n",
       "         1.59160482e-02,  6.53804393e-03,  2.31917225e-03,\n",
       "         5.04291702e-04,  3.71500348e-05,  6.32025644e-06,\n",
       "         2.08046900e-06],\n",
       "       [-1.27067243e-06, -5.24066761e-07,  7.45420085e-05,\n",
       "         9.37176845e-04,  4.24137079e-03,  1.28827157e-02,\n",
       "         2.75949468e-02,  4.53467125e-02,  5.93270898e-02,\n",
       "         6.45846345e-02,  5.98585227e-02,  4.94276284e-02,\n",
       "         4.04126900e-02,  3.71659640e-02,  4.07974810e-02,\n",
       "         4.95313294e-02,  5.51886203e-02,  5.20639840e-02,\n",
       "         4.03539696e-02,  2.61389081e-02,  1.40134694e-02,\n",
       "         6.47142610e-03,  2.75429723e-03,  1.11766387e-03,\n",
       "         3.06357839e-04,  4.47668195e-05,  6.39088750e-06,\n",
       "         3.84086585e-06],\n",
       "       [ 0.00000000e+00, -1.88719004e-09,  1.79987446e-05,\n",
       "         2.55446156e-04,  1.11780700e-03,  3.55866320e-03,\n",
       "         8.73064004e-03,  1.65527772e-02,  2.46578265e-02,\n",
       "         2.94396132e-02,  2.92774701e-02,  2.63235049e-02,\n",
       "         2.24582390e-02,  1.89547383e-02,  1.75169097e-02,\n",
       "         1.92929369e-02,  2.14644978e-02,  1.97035008e-02,\n",
       "         1.44903132e-02,  8.88065609e-03,  4.84470464e-03,\n",
       "         2.49782128e-03,  1.12292282e-03,  4.25563072e-04,\n",
       "         1.08889170e-04,  8.43726464e-06, -6.41068401e-06,\n",
       "         0.00000000e+00],\n",
       "       [ 0.00000000e+00,  0.00000000e+00,  3.27278908e-06,\n",
       "         2.73508084e-05,  7.32623170e-05,  1.82568470e-04,\n",
       "         3.46362476e-04,  4.80327518e-04,  3.29896666e-04,\n",
       "        -9.86134690e-04, -3.46172762e-03, -5.43442366e-03,\n",
       "        -6.68822268e-03, -6.92365341e-03, -5.69744045e-03,\n",
       "        -2.54202158e-03,  5.15554559e-04,  2.36057012e-03,\n",
       "         2.74049269e-03,  2.37000555e-03,  1.69414097e-03,\n",
       "         9.76236010e-04,  4.81121847e-04,  1.81904320e-04,\n",
       "         2.37077116e-05, -3.73241164e-06, -1.87441879e-06,\n",
       "         0.00000000e+00],\n",
       "       [ 0.00000000e+00,  0.00000000e+00,  4.14741453e-07,\n",
       "        -6.85618072e-06, -6.17348135e-05, -1.90908783e-04,\n",
       "        -5.85543546e-04, -1.51164691e-03, -3.38628892e-03,\n",
       "        -6.10525265e-03, -9.28945450e-03, -1.16109641e-02,\n",
       "        -1.23833986e-02, -1.16137513e-02, -9.18259487e-03,\n",
       "        -6.32308456e-03, -3.39068870e-03, -1.23832106e-03,\n",
       "        -1.56523302e-05,  4.85128877e-04,  5.39577440e-04,\n",
       "         3.31881836e-04,  1.45948788e-04,  7.68739044e-05,\n",
       "         1.56569701e-05, -1.10970830e-06, -1.36247345e-06,\n",
       "         0.00000000e+00],\n",
       "       [ 0.00000000e+00,  0.00000000e+00,  0.00000000e+00,\n",
       "        -8.44206261e-07, -2.89366511e-05, -9.34018642e-05,\n",
       "        -2.81194370e-04, -7.08374189e-04, -1.54278142e-03,\n",
       "        -2.59007429e-03, -3.77412368e-03, -4.84692737e-03,\n",
       "        -5.20040945e-03, -4.76707772e-03, -3.68277005e-03,\n",
       "        -2.34096350e-03, -1.34802020e-03, -7.08180555e-04,\n",
       "        -2.59297104e-04,  4.85149803e-06,  1.06741226e-04,\n",
       "         5.37511996e-05,  1.81239279e-05,  7.33830614e-07,\n",
       "         6.67300538e-07, -6.57475348e-07,  0.00000000e+00,\n",
       "         0.00000000e+00],\n",
       "       [ 0.00000000e+00,  0.00000000e+00,  0.00000000e+00,\n",
       "         0.00000000e+00, -1.76716117e-06, -7.79668528e-06,\n",
       "        -1.97846045e-05, -4.86220909e-05, -5.70806455e-05,\n",
       "        -1.01218477e-04, -2.30078509e-04, -2.82362361e-04,\n",
       "        -2.97964359e-04, -2.90656824e-04, -2.63317920e-04,\n",
       "        -1.86026386e-04, -9.86286608e-05, -5.50406290e-05,\n",
       "        -2.31401030e-05,  3.29017326e-06, -5.74756478e-07,\n",
       "        -6.03477101e-07, -7.83813225e-07,  6.50947709e-08,\n",
       "         0.00000000e+00,  0.00000000e+00,  0.00000000e+00,\n",
       "         0.00000000e+00]])"
      ]
     },
     "execution_count": 48,
     "metadata": {},
     "output_type": "execute_result"
    }
   ],
   "source": [
    "c1"
   ]
  },
  {
   "cell_type": "markdown",
   "metadata": {},
   "source": [
    "- **Each number in the vector indicated how much each feature contribute into variance.(Principal component is in the direction where data is most spread i.e. have most variance)**"
   ]
  },
  {
   "cell_type": "code",
   "execution_count": 49,
   "metadata": {},
   "outputs": [
    {
     "data": {
      "image/png": "[encoded data removed]",
      "text/plain": [
       "<Figure size 800x400 with 2 Axes>"
      ]
     },
     "metadata": {},
     "output_type": "display_data"
    }
   ],
   "source": [
    "plt.figure(figsize=(8, 4))\n",
    "\n",
    "plt.subplot(1, 2, 1)\n",
    "plt.imshow(c1, cmap='gray')\n",
    "plt.title(\"First Principal Component\")\n",
    "\n",
    "# Plot the second principal component\n",
    "plt.subplot(1, 2, 2)\n",
    "plt.imshow(c2, cmap='gray')\n",
    "plt.title(\"Second Principal Component\")\n",
    "\n",
    "plt.show()\n"
   ]
  },
  {
   "cell_type": "markdown",
   "metadata": {},
   "source": [
    "## **Randomized PCA** ##"
   ]
  },
  {
   "cell_type": "markdown",
   "metadata": {},
   "source": [
    "- *If you set the svd_solver hyperparameter to randomized , you are basically using stochastic algorithm known as Randmized PCA which finds the approximation of first d principal components.*\n",
    "- *It is particularly useful when the d in much smaller than n typically less than 80% of m*"
   ]
  },
  {
   "cell_type": "markdown",
   "metadata": {},
   "source": [
    "## **Incrimental PCA** ##\n",
    "- *The basic problem with the previous algorithm is that it requires whole dataset to be stored in memeory before finding the principal components.*\n",
    "- *IPCA allows you to divide your training set into mini batches and feed them batch by batch (Use partial fit method at each minibatch rather than fit).*"
   ]
  },
  {
   "cell_type": "code",
   "execution_count": 55,
   "metadata": {},
   "outputs": [
    {
     "name": "stderr",
     "output_type": "stream",
     "text": [
      "c:\\Users\\Abdullah Bin Salman\\AppData\\Local\\Programs\\Python\\Python312\\Lib\\site-packages\\numpy\\core\\fromnumeric.py:59: FutureWarning: 'DataFrame.swapaxes' is deprecated and will be removed in a future version. Please use 'DataFrame.transpose' instead.\n",
      "  return bound(*args, **kwds)\n"
     ]
    }
   ],
   "source": [
    "from sklearn.decomposition import IncrementalPCA\n",
    "from sklearn.model_selection import train_test_split\n",
    "X_train,X_test,y_train,y_test=train_test_split(X,y,test_size=0.2,random_state=42)\n",
    "n_decomp=100\n",
    "inc_pca=IncrementalPCA(n_components=154)\n",
    "for X_batch in (np.array_split(X_train,n_decomp)):\n",
    "    inc_pca.partial_fit(X_batch)\n",
    "\n",
    "X_reduced=inc_pca.transform(X_train)"
   ]
  },
  {
   "cell_type": "markdown",
   "metadata": {},
   "source": [
    "## **Kernel PCA** ##\n",
    "- *Just like we used the kernel trick in SVM (Which leverages the kernel function to take dot product in higher-dimensional feature space without necessirily transforming the data, computes dot product of transformed vectors from original vector themselves.)*"
   ]
  },
  {
   "cell_type": "code",
   "execution_count": 59,
   "metadata": {},
   "outputs": [
    {
     "ename": "MemoryError",
     "evalue": "Unable to allocate 36.5 GiB for an array with shape (70000, 70000) and data type float64",
     "output_type": "error",
     "traceback": [
      "\u001b[1;31m---------------------------------------------------------------------------\u001b[0m",
      "\u001b[1;31mMemoryError\u001b[0m                               Traceback (most recent call last)",
      "Cell \u001b[1;32mIn[59], line 3\u001b[0m\n\u001b[0;32m      1\u001b[0m \u001b[38;5;28;01mfrom\u001b[39;00m \u001b[38;5;21;01msklearn\u001b[39;00m\u001b[38;5;21;01m.\u001b[39;00m\u001b[38;5;21;01mdecomposition\u001b[39;00m \u001b[38;5;28;01mimport\u001b[39;00m KernelPCA\n\u001b[0;32m      2\u001b[0m kpca\u001b[38;5;241m=\u001b[39mKernelPCA(kernel\u001b[38;5;241m=\u001b[39m\u001b[38;5;124m'\u001b[39m\u001b[38;5;124mrbf\u001b[39m\u001b[38;5;124m'\u001b[39m,gamma\u001b[38;5;241m=\u001b[39m\u001b[38;5;241m0.4\u001b[39m,n_components\u001b[38;5;241m=\u001b[39m\u001b[38;5;241m2\u001b[39m)\n\u001b[1;32m----> 3\u001b[0m \u001b[43mkpca\u001b[49m\u001b[38;5;241;43m.\u001b[39;49m\u001b[43mfit_transform\u001b[49m\u001b[43m(\u001b[49m\u001b[43mX\u001b[49m\u001b[43m)\u001b[49m\n",
      "File \u001b[1;32mc:\\Users\\Abdullah Bin Salman\\AppData\\Local\\Programs\\Python\\Python312\\Lib\\site-packages\\sklearn\\utils\\_set_output.py:157\u001b[0m, in \u001b[0;36m_wrap_method_output.<locals>.wrapped\u001b[1;34m(self, X, *args, **kwargs)\u001b[0m\n\u001b[0;32m    155\u001b[0m \u001b[38;5;129m@wraps\u001b[39m(f)\n\u001b[0;32m    156\u001b[0m \u001b[38;5;28;01mdef\u001b[39;00m \u001b[38;5;21mwrapped\u001b[39m(\u001b[38;5;28mself\u001b[39m, X, \u001b[38;5;241m*\u001b[39margs, \u001b[38;5;241m*\u001b[39m\u001b[38;5;241m*\u001b[39mkwargs):\n\u001b[1;32m--> 157\u001b[0m     data_to_wrap \u001b[38;5;241m=\u001b[39m \u001b[43mf\u001b[49m\u001b[43m(\u001b[49m\u001b[38;5;28;43mself\u001b[39;49m\u001b[43m,\u001b[49m\u001b[43m \u001b[49m\u001b[43mX\u001b[49m\u001b[43m,\u001b[49m\u001b[43m \u001b[49m\u001b[38;5;241;43m*\u001b[39;49m\u001b[43margs\u001b[49m\u001b[43m,\u001b[49m\u001b[43m \u001b[49m\u001b[38;5;241;43m*\u001b[39;49m\u001b[38;5;241;43m*\u001b[39;49m\u001b[43mkwargs\u001b[49m\u001b[43m)\u001b[49m\n\u001b[0;32m    158\u001b[0m     \u001b[38;5;28;01mif\u001b[39;00m \u001b[38;5;28misinstance\u001b[39m(data_to_wrap, \u001b[38;5;28mtuple\u001b[39m):\n\u001b[0;32m    159\u001b[0m         \u001b[38;5;66;03m# only wrap the first output for cross decomposition\u001b[39;00m\n\u001b[0;32m    160\u001b[0m         return_tuple \u001b[38;5;241m=\u001b[39m (\n\u001b[0;32m    161\u001b[0m             _wrap_data_with_container(method, data_to_wrap[\u001b[38;5;241m0\u001b[39m], X, \u001b[38;5;28mself\u001b[39m),\n\u001b[0;32m    162\u001b[0m             \u001b[38;5;241m*\u001b[39mdata_to_wrap[\u001b[38;5;241m1\u001b[39m:],\n\u001b[0;32m    163\u001b[0m         )\n",
      "File \u001b[1;32mc:\\Users\\Abdullah Bin Salman\\AppData\\Local\\Programs\\Python\\Python312\\Lib\\site-packages\\sklearn\\decomposition\\_kernel_pca.py:469\u001b[0m, in \u001b[0;36mKernelPCA.fit_transform\u001b[1;34m(self, X, y, **params)\u001b[0m\n\u001b[0;32m    448\u001b[0m \u001b[38;5;28;01mdef\u001b[39;00m \u001b[38;5;21mfit_transform\u001b[39m(\u001b[38;5;28mself\u001b[39m, X, y\u001b[38;5;241m=\u001b[39m\u001b[38;5;28;01mNone\u001b[39;00m, \u001b[38;5;241m*\u001b[39m\u001b[38;5;241m*\u001b[39mparams):\n\u001b[0;32m    449\u001b[0m \u001b[38;5;250m    \u001b[39m\u001b[38;5;124;03m\"\"\"Fit the model from data in X and transform X.\u001b[39;00m\n\u001b[0;32m    450\u001b[0m \n\u001b[0;32m    451\u001b[0m \u001b[38;5;124;03m    Parameters\u001b[39;00m\n\u001b[1;32m   (...)\u001b[0m\n\u001b[0;32m    467\u001b[0m \u001b[38;5;124;03m        Returns the instance itself.\u001b[39;00m\n\u001b[0;32m    468\u001b[0m \u001b[38;5;124;03m    \"\"\"\u001b[39;00m\n\u001b[1;32m--> 469\u001b[0m     \u001b[38;5;28;43mself\u001b[39;49m\u001b[38;5;241;43m.\u001b[39;49m\u001b[43mfit\u001b[49m\u001b[43m(\u001b[49m\u001b[43mX\u001b[49m\u001b[43m,\u001b[49m\u001b[43m \u001b[49m\u001b[38;5;241;43m*\u001b[39;49m\u001b[38;5;241;43m*\u001b[39;49m\u001b[43mparams\u001b[49m\u001b[43m)\u001b[49m\n\u001b[0;32m    471\u001b[0m     \u001b[38;5;66;03m# no need to use the kernel to transform X, use shortcut expression\u001b[39;00m\n\u001b[0;32m    472\u001b[0m     X_transformed \u001b[38;5;241m=\u001b[39m \u001b[38;5;28mself\u001b[39m\u001b[38;5;241m.\u001b[39meigenvectors_ \u001b[38;5;241m*\u001b[39m np\u001b[38;5;241m.\u001b[39msqrt(\u001b[38;5;28mself\u001b[39m\u001b[38;5;241m.\u001b[39meigenvalues_)\n",
      "File \u001b[1;32mc:\\Users\\Abdullah Bin Salman\\AppData\\Local\\Programs\\Python\\Python312\\Lib\\site-packages\\sklearn\\base.py:1152\u001b[0m, in \u001b[0;36m_fit_context.<locals>.decorator.<locals>.wrapper\u001b[1;34m(estimator, *args, **kwargs)\u001b[0m\n\u001b[0;32m   1145\u001b[0m     estimator\u001b[38;5;241m.\u001b[39m_validate_params()\n\u001b[0;32m   1147\u001b[0m \u001b[38;5;28;01mwith\u001b[39;00m config_context(\n\u001b[0;32m   1148\u001b[0m     skip_parameter_validation\u001b[38;5;241m=\u001b[39m(\n\u001b[0;32m   1149\u001b[0m         prefer_skip_nested_validation \u001b[38;5;129;01mor\u001b[39;00m global_skip_validation\n\u001b[0;32m   1150\u001b[0m     )\n\u001b[0;32m   1151\u001b[0m ):\n\u001b[1;32m-> 1152\u001b[0m     \u001b[38;5;28;01mreturn\u001b[39;00m \u001b[43mfit_method\u001b[49m\u001b[43m(\u001b[49m\u001b[43mestimator\u001b[49m\u001b[43m,\u001b[49m\u001b[43m \u001b[49m\u001b[38;5;241;43m*\u001b[39;49m\u001b[43margs\u001b[49m\u001b[43m,\u001b[49m\u001b[43m \u001b[49m\u001b[38;5;241;43m*\u001b[39;49m\u001b[38;5;241;43m*\u001b[39;49m\u001b[43mkwargs\u001b[49m\u001b[43m)\u001b[49m\n",
      "File \u001b[1;32mc:\\Users\\Abdullah Bin Salman\\AppData\\Local\\Programs\\Python\\Python312\\Lib\\site-packages\\sklearn\\decomposition\\_kernel_pca.py:436\u001b[0m, in \u001b[0;36mKernelPCA.fit\u001b[1;34m(self, X, y)\u001b[0m\n\u001b[0;32m    434\u001b[0m \u001b[38;5;28mself\u001b[39m\u001b[38;5;241m.\u001b[39mgamma_ \u001b[38;5;241m=\u001b[39m \u001b[38;5;241m1\u001b[39m \u001b[38;5;241m/\u001b[39m X\u001b[38;5;241m.\u001b[39mshape[\u001b[38;5;241m1\u001b[39m] \u001b[38;5;28;01mif\u001b[39;00m \u001b[38;5;28mself\u001b[39m\u001b[38;5;241m.\u001b[39mgamma \u001b[38;5;129;01mis\u001b[39;00m \u001b[38;5;28;01mNone\u001b[39;00m \u001b[38;5;28;01melse\u001b[39;00m \u001b[38;5;28mself\u001b[39m\u001b[38;5;241m.\u001b[39mgamma\n\u001b[0;32m    435\u001b[0m \u001b[38;5;28mself\u001b[39m\u001b[38;5;241m.\u001b[39m_centerer \u001b[38;5;241m=\u001b[39m KernelCenterer()\u001b[38;5;241m.\u001b[39mset_output(transform\u001b[38;5;241m=\u001b[39m\u001b[38;5;124m\"\u001b[39m\u001b[38;5;124mdefault\u001b[39m\u001b[38;5;124m\"\u001b[39m)\n\u001b[1;32m--> 436\u001b[0m K \u001b[38;5;241m=\u001b[39m \u001b[38;5;28;43mself\u001b[39;49m\u001b[38;5;241;43m.\u001b[39;49m\u001b[43m_get_kernel\u001b[49m\u001b[43m(\u001b[49m\u001b[43mX\u001b[49m\u001b[43m)\u001b[49m\n\u001b[0;32m    437\u001b[0m \u001b[38;5;28mself\u001b[39m\u001b[38;5;241m.\u001b[39m_fit_transform(K)\n\u001b[0;32m    439\u001b[0m \u001b[38;5;28;01mif\u001b[39;00m \u001b[38;5;28mself\u001b[39m\u001b[38;5;241m.\u001b[39mfit_inverse_transform:\n\u001b[0;32m    440\u001b[0m     \u001b[38;5;66;03m# no need to use the kernel to transform X, use shortcut expression\u001b[39;00m\n",
      "File \u001b[1;32mc:\\Users\\Abdullah Bin Salman\\AppData\\Local\\Programs\\Python\\Python312\\Lib\\site-packages\\sklearn\\decomposition\\_kernel_pca.py:317\u001b[0m, in \u001b[0;36mKernelPCA._get_kernel\u001b[1;34m(self, X, Y)\u001b[0m\n\u001b[0;32m    315\u001b[0m \u001b[38;5;28;01melse\u001b[39;00m:\n\u001b[0;32m    316\u001b[0m     params \u001b[38;5;241m=\u001b[39m {\u001b[38;5;124m\"\u001b[39m\u001b[38;5;124mgamma\u001b[39m\u001b[38;5;124m\"\u001b[39m: \u001b[38;5;28mself\u001b[39m\u001b[38;5;241m.\u001b[39mgamma_, \u001b[38;5;124m\"\u001b[39m\u001b[38;5;124mdegree\u001b[39m\u001b[38;5;124m\"\u001b[39m: \u001b[38;5;28mself\u001b[39m\u001b[38;5;241m.\u001b[39mdegree, \u001b[38;5;124m\"\u001b[39m\u001b[38;5;124mcoef0\u001b[39m\u001b[38;5;124m\"\u001b[39m: \u001b[38;5;28mself\u001b[39m\u001b[38;5;241m.\u001b[39mcoef0}\n\u001b[1;32m--> 317\u001b[0m \u001b[38;5;28;01mreturn\u001b[39;00m \u001b[43mpairwise_kernels\u001b[49m\u001b[43m(\u001b[49m\n\u001b[0;32m    318\u001b[0m \u001b[43m    \u001b[49m\u001b[43mX\u001b[49m\u001b[43m,\u001b[49m\u001b[43m \u001b[49m\u001b[43mY\u001b[49m\u001b[43m,\u001b[49m\u001b[43m \u001b[49m\u001b[43mmetric\u001b[49m\u001b[38;5;241;43m=\u001b[39;49m\u001b[38;5;28;43mself\u001b[39;49m\u001b[38;5;241;43m.\u001b[39;49m\u001b[43mkernel\u001b[49m\u001b[43m,\u001b[49m\u001b[43m \u001b[49m\u001b[43mfilter_params\u001b[49m\u001b[38;5;241;43m=\u001b[39;49m\u001b[38;5;28;43;01mTrue\u001b[39;49;00m\u001b[43m,\u001b[49m\u001b[43m \u001b[49m\u001b[43mn_jobs\u001b[49m\u001b[38;5;241;43m=\u001b[39;49m\u001b[38;5;28;43mself\u001b[39;49m\u001b[38;5;241;43m.\u001b[39;49m\u001b[43mn_jobs\u001b[49m\u001b[43m,\u001b[49m\u001b[43m \u001b[49m\u001b[38;5;241;43m*\u001b[39;49m\u001b[38;5;241;43m*\u001b[39;49m\u001b[43mparams\u001b[49m\n\u001b[0;32m    319\u001b[0m \u001b[43m\u001b[49m\u001b[43m)\u001b[49m\n",
      "File \u001b[1;32mc:\\Users\\Abdullah Bin Salman\\AppData\\Local\\Programs\\Python\\Python312\\Lib\\site-packages\\sklearn\\metrics\\pairwise.py:2366\u001b[0m, in \u001b[0;36mpairwise_kernels\u001b[1;34m(X, Y, metric, filter_params, n_jobs, **kwds)\u001b[0m\n\u001b[0;32m   2363\u001b[0m \u001b[38;5;28;01melse\u001b[39;00m:\n\u001b[0;32m   2364\u001b[0m     \u001b[38;5;28;01mraise\u001b[39;00m \u001b[38;5;167;01mValueError\u001b[39;00m(\u001b[38;5;124m\"\u001b[39m\u001b[38;5;124mUnknown kernel \u001b[39m\u001b[38;5;132;01m%r\u001b[39;00m\u001b[38;5;124m\"\u001b[39m \u001b[38;5;241m%\u001b[39m metric)\n\u001b[1;32m-> 2366\u001b[0m \u001b[38;5;28;01mreturn\u001b[39;00m \u001b[43m_parallel_pairwise\u001b[49m\u001b[43m(\u001b[49m\u001b[43mX\u001b[49m\u001b[43m,\u001b[49m\u001b[43m \u001b[49m\u001b[43mY\u001b[49m\u001b[43m,\u001b[49m\u001b[43m \u001b[49m\u001b[43mfunc\u001b[49m\u001b[43m,\u001b[49m\u001b[43m \u001b[49m\u001b[43mn_jobs\u001b[49m\u001b[43m,\u001b[49m\u001b[43m \u001b[49m\u001b[38;5;241;43m*\u001b[39;49m\u001b[38;5;241;43m*\u001b[39;49m\u001b[43mkwds\u001b[49m\u001b[43m)\u001b[49m\n",
      "File \u001b[1;32mc:\\Users\\Abdullah Bin Salman\\AppData\\Local\\Programs\\Python\\Python312\\Lib\\site-packages\\sklearn\\metrics\\pairwise.py:1766\u001b[0m, in \u001b[0;36m_parallel_pairwise\u001b[1;34m(X, Y, func, n_jobs, **kwds)\u001b[0m\n\u001b[0;32m   1763\u001b[0m X, Y, dtype \u001b[38;5;241m=\u001b[39m _return_float_dtype(X, Y)\n\u001b[0;32m   1765\u001b[0m \u001b[38;5;28;01mif\u001b[39;00m effective_n_jobs(n_jobs) \u001b[38;5;241m==\u001b[39m \u001b[38;5;241m1\u001b[39m:\n\u001b[1;32m-> 1766\u001b[0m     \u001b[38;5;28;01mreturn\u001b[39;00m \u001b[43mfunc\u001b[49m\u001b[43m(\u001b[49m\u001b[43mX\u001b[49m\u001b[43m,\u001b[49m\u001b[43m \u001b[49m\u001b[43mY\u001b[49m\u001b[43m,\u001b[49m\u001b[43m \u001b[49m\u001b[38;5;241;43m*\u001b[39;49m\u001b[38;5;241;43m*\u001b[39;49m\u001b[43mkwds\u001b[49m\u001b[43m)\u001b[49m\n\u001b[0;32m   1768\u001b[0m \u001b[38;5;66;03m# enforce a threading backend to prevent data communication overhead\u001b[39;00m\n\u001b[0;32m   1769\u001b[0m fd \u001b[38;5;241m=\u001b[39m delayed(_dist_wrapper)\n",
      "File \u001b[1;32mc:\\Users\\Abdullah Bin Salman\\AppData\\Local\\Programs\\Python\\Python312\\Lib\\site-packages\\sklearn\\utils\\_param_validation.py:187\u001b[0m, in \u001b[0;36mvalidate_params.<locals>.decorator.<locals>.wrapper\u001b[1;34m(*args, **kwargs)\u001b[0m\n\u001b[0;32m    185\u001b[0m global_skip_validation \u001b[38;5;241m=\u001b[39m get_config()[\u001b[38;5;124m\"\u001b[39m\u001b[38;5;124mskip_parameter_validation\u001b[39m\u001b[38;5;124m\"\u001b[39m]\n\u001b[0;32m    186\u001b[0m \u001b[38;5;28;01mif\u001b[39;00m global_skip_validation:\n\u001b[1;32m--> 187\u001b[0m     \u001b[38;5;28;01mreturn\u001b[39;00m \u001b[43mfunc\u001b[49m\u001b[43m(\u001b[49m\u001b[38;5;241;43m*\u001b[39;49m\u001b[43margs\u001b[49m\u001b[43m,\u001b[49m\u001b[43m \u001b[49m\u001b[38;5;241;43m*\u001b[39;49m\u001b[38;5;241;43m*\u001b[39;49m\u001b[43mkwargs\u001b[49m\u001b[43m)\u001b[49m\n\u001b[0;32m    189\u001b[0m func_sig \u001b[38;5;241m=\u001b[39m signature(func)\n\u001b[0;32m    191\u001b[0m \u001b[38;5;66;03m# Map *args/**kwargs to the function signature\u001b[39;00m\n",
      "File \u001b[1;32mc:\\Users\\Abdullah Bin Salman\\AppData\\Local\\Programs\\Python\\Python312\\Lib\\site-packages\\sklearn\\metrics\\pairwise.py:1479\u001b[0m, in \u001b[0;36mrbf_kernel\u001b[1;34m(X, Y, gamma)\u001b[0m\n\u001b[0;32m   1476\u001b[0m \u001b[38;5;28;01mif\u001b[39;00m gamma \u001b[38;5;129;01mis\u001b[39;00m \u001b[38;5;28;01mNone\u001b[39;00m:\n\u001b[0;32m   1477\u001b[0m     gamma \u001b[38;5;241m=\u001b[39m \u001b[38;5;241m1.0\u001b[39m \u001b[38;5;241m/\u001b[39m X\u001b[38;5;241m.\u001b[39mshape[\u001b[38;5;241m1\u001b[39m]\n\u001b[1;32m-> 1479\u001b[0m K \u001b[38;5;241m=\u001b[39m \u001b[43meuclidean_distances\u001b[49m\u001b[43m(\u001b[49m\u001b[43mX\u001b[49m\u001b[43m,\u001b[49m\u001b[43m \u001b[49m\u001b[43mY\u001b[49m\u001b[43m,\u001b[49m\u001b[43m \u001b[49m\u001b[43msquared\u001b[49m\u001b[38;5;241;43m=\u001b[39;49m\u001b[38;5;28;43;01mTrue\u001b[39;49;00m\u001b[43m)\u001b[49m\n\u001b[0;32m   1480\u001b[0m K \u001b[38;5;241m*\u001b[39m\u001b[38;5;241m=\u001b[39m \u001b[38;5;241m-\u001b[39mgamma\n\u001b[0;32m   1481\u001b[0m np\u001b[38;5;241m.\u001b[39mexp(K, K)  \u001b[38;5;66;03m# exponentiate K in-place\u001b[39;00m\n",
      "File \u001b[1;32mc:\\Users\\Abdullah Bin Salman\\AppData\\Local\\Programs\\Python\\Python312\\Lib\\site-packages\\sklearn\\metrics\\pairwise.py:338\u001b[0m, in \u001b[0;36meuclidean_distances\u001b[1;34m(X, Y, Y_norm_squared, squared, X_norm_squared)\u001b[0m\n\u001b[0;32m    332\u001b[0m     \u001b[38;5;28;01mif\u001b[39;00m Y_norm_squared\u001b[38;5;241m.\u001b[39mshape \u001b[38;5;241m!=\u001b[39m (\u001b[38;5;241m1\u001b[39m, Y\u001b[38;5;241m.\u001b[39mshape[\u001b[38;5;241m0\u001b[39m]):\n\u001b[0;32m    333\u001b[0m         \u001b[38;5;28;01mraise\u001b[39;00m \u001b[38;5;167;01mValueError\u001b[39;00m(\n\u001b[0;32m    334\u001b[0m             \u001b[38;5;124mf\u001b[39m\u001b[38;5;124m\"\u001b[39m\u001b[38;5;124mIncompatible dimensions for Y of shape \u001b[39m\u001b[38;5;132;01m{\u001b[39;00mY\u001b[38;5;241m.\u001b[39mshape\u001b[38;5;132;01m}\u001b[39;00m\u001b[38;5;124m and \u001b[39m\u001b[38;5;124m\"\u001b[39m\n\u001b[0;32m    335\u001b[0m             \u001b[38;5;124mf\u001b[39m\u001b[38;5;124m\"\u001b[39m\u001b[38;5;124mY_norm_squared of shape \u001b[39m\u001b[38;5;132;01m{\u001b[39;00moriginal_shape\u001b[38;5;132;01m}\u001b[39;00m\u001b[38;5;124m.\u001b[39m\u001b[38;5;124m\"\u001b[39m\n\u001b[0;32m    336\u001b[0m         )\n\u001b[1;32m--> 338\u001b[0m \u001b[38;5;28;01mreturn\u001b[39;00m \u001b[43m_euclidean_distances\u001b[49m\u001b[43m(\u001b[49m\u001b[43mX\u001b[49m\u001b[43m,\u001b[49m\u001b[43m \u001b[49m\u001b[43mY\u001b[49m\u001b[43m,\u001b[49m\u001b[43m \u001b[49m\u001b[43mX_norm_squared\u001b[49m\u001b[43m,\u001b[49m\u001b[43m \u001b[49m\u001b[43mY_norm_squared\u001b[49m\u001b[43m,\u001b[49m\u001b[43m \u001b[49m\u001b[43msquared\u001b[49m\u001b[43m)\u001b[49m\n",
      "File \u001b[1;32mc:\\Users\\Abdullah Bin Salman\\AppData\\Local\\Programs\\Python\\Python312\\Lib\\site-packages\\sklearn\\metrics\\pairwise.py:379\u001b[0m, in \u001b[0;36m_euclidean_distances\u001b[1;34m(X, Y, X_norm_squared, Y_norm_squared, squared)\u001b[0m\n\u001b[0;32m    376\u001b[0m     distances \u001b[38;5;241m=\u001b[39m _euclidean_distances_upcast(X, XX, Y, YY)\n\u001b[0;32m    377\u001b[0m \u001b[38;5;28;01melse\u001b[39;00m:\n\u001b[0;32m    378\u001b[0m     \u001b[38;5;66;03m# if dtype is already float64, no need to chunk and upcast\u001b[39;00m\n\u001b[1;32m--> 379\u001b[0m     distances \u001b[38;5;241m=\u001b[39m \u001b[38;5;241m-\u001b[39m\u001b[38;5;241m2\u001b[39m \u001b[38;5;241m*\u001b[39m \u001b[43msafe_sparse_dot\u001b[49m\u001b[43m(\u001b[49m\u001b[43mX\u001b[49m\u001b[43m,\u001b[49m\u001b[43m \u001b[49m\u001b[43mY\u001b[49m\u001b[38;5;241;43m.\u001b[39;49m\u001b[43mT\u001b[49m\u001b[43m,\u001b[49m\u001b[43m \u001b[49m\u001b[43mdense_output\u001b[49m\u001b[38;5;241;43m=\u001b[39;49m\u001b[38;5;28;43;01mTrue\u001b[39;49;00m\u001b[43m)\u001b[49m\n\u001b[0;32m    380\u001b[0m     distances \u001b[38;5;241m+\u001b[39m\u001b[38;5;241m=\u001b[39m XX\n\u001b[0;32m    381\u001b[0m     distances \u001b[38;5;241m+\u001b[39m\u001b[38;5;241m=\u001b[39m YY\n",
      "File \u001b[1;32mc:\\Users\\Abdullah Bin Salman\\AppData\\Local\\Programs\\Python\\Python312\\Lib\\site-packages\\sklearn\\utils\\extmath.py:192\u001b[0m, in \u001b[0;36msafe_sparse_dot\u001b[1;34m(a, b, dense_output)\u001b[0m\n\u001b[0;32m    190\u001b[0m         ret \u001b[38;5;241m=\u001b[39m np\u001b[38;5;241m.\u001b[39mdot(a, b)\n\u001b[0;32m    191\u001b[0m \u001b[38;5;28;01melse\u001b[39;00m:\n\u001b[1;32m--> 192\u001b[0m     ret \u001b[38;5;241m=\u001b[39m \u001b[43ma\u001b[49m\u001b[43m \u001b[49m\u001b[38;5;241;43m@\u001b[39;49m\u001b[43m \u001b[49m\u001b[43mb\u001b[49m\n\u001b[0;32m    194\u001b[0m \u001b[38;5;28;01mif\u001b[39;00m (\n\u001b[0;32m    195\u001b[0m     sparse\u001b[38;5;241m.\u001b[39missparse(a)\n\u001b[0;32m    196\u001b[0m     \u001b[38;5;129;01mand\u001b[39;00m sparse\u001b[38;5;241m.\u001b[39missparse(b)\n\u001b[0;32m    197\u001b[0m     \u001b[38;5;129;01mand\u001b[39;00m dense_output\n\u001b[0;32m    198\u001b[0m     \u001b[38;5;129;01mand\u001b[39;00m \u001b[38;5;28mhasattr\u001b[39m(ret, \u001b[38;5;124m\"\u001b[39m\u001b[38;5;124mtoarray\u001b[39m\u001b[38;5;124m\"\u001b[39m)\n\u001b[0;32m    199\u001b[0m ):\n\u001b[0;32m    200\u001b[0m     \u001b[38;5;28;01mreturn\u001b[39;00m ret\u001b[38;5;241m.\u001b[39mtoarray()\n",
      "\u001b[1;31mMemoryError\u001b[0m: Unable to allocate 36.5 GiB for an array with shape (70000, 70000) and data type float64"
     ]
    }
   ],
   "source": [
    "from sklearn.decomposition import KernelPCA\n",
    "kpca=KernelPCA(kernel='rbf',gamma=0.4,n_components=2)\n",
    "kpca.fit_transform(X)"
   ]
  },
  {
   "cell_type": "markdown",
   "metadata": {},
   "source": [
    "## Selecting kernel and tuning hyperparameters ##"
   ]
  },
  {
   "cell_type": "markdown",
   "metadata": {},
   "source": [
    "- **As kPCA is a unsupervised algorithm so there is no direct performance measure to check the best hyperparameter . Rather this dimensionality reduction is preperation step for supervised classification or regression task**"
   ]
  },
  {
   "cell_type": "code",
   "execution_count": 66,
   "metadata": {},
   "outputs": [
    {
     "data": {
      "text/html": [
       "<style>#sk-container-id-1 {color: black;}#sk-container-id-1 pre{padding: 0;}#sk-container-id-1 div.sk-toggleable {background-color: white;}#sk-container-id-1 label.sk-toggleable__label {cursor: pointer;display: block;width: 100%;margin-bottom: 0;padding: 0.3em;box-sizing: border-box;text-align: center;}#sk-container-id-1 label.sk-toggleable__label-arrow:before {content: \"▸\";float: left;margin-right: 0.25em;color: #696969;}#sk-container-id-1 label.sk-toggleable__label-arrow:hover:before {color: black;}#sk-container-id-1 div.sk-estimator:hover label.sk-toggleable__label-arrow:before {color: black;}#sk-container-id-1 div.sk-toggleable__content {max-height: 0;max-width: 0;overflow: hidden;text-align: left;background-color: #f0f8ff;}#sk-container-id-1 div.sk-toggleable__content pre {margin: 0.2em;color: black;border-radius: 0.25em;background-color: #f0f8ff;}#sk-container-id-1 input.sk-toggleable__control:checked~div.sk-toggleable__content {max-height: 200px;max-width: 100%;overflow: auto;}#sk-container-id-1 input.sk-toggleable__control:checked~label.sk-toggleable__label-arrow:before {content: \"▾\";}#sk-container-id-1 div.sk-estimator input.sk-toggleable__control:checked~label.sk-toggleable__label {background-color: #d4ebff;}#sk-container-id-1 div.sk-label input.sk-toggleable__control:checked~label.sk-toggleable__label {background-color: #d4ebff;}#sk-container-id-1 input.sk-hidden--visually {border: 0;clip: rect(1px 1px 1px 1px);clip: rect(1px, 1px, 1px, 1px);height: 1px;margin: -1px;overflow: hidden;padding: 0;position: absolute;width: 1px;}#sk-container-id-1 div.sk-estimator {font-family: monospace;background-color: #f0f8ff;border: 1px dotted black;border-radius: 0.25em;box-sizing: border-box;margin-bottom: 0.5em;}#sk-container-id-1 div.sk-estimator:hover {background-color: #d4ebff;}#sk-container-id-1 div.sk-parallel-item::after {content: \"\";width: 100%;border-bottom: 1px solid gray;flex-grow: 1;}#sk-container-id-1 div.sk-label:hover label.sk-toggleable__label {background-color: #d4ebff;}#sk-container-id-1 div.sk-serial::before {content: \"\";position: absolute;border-left: 1px solid gray;box-sizing: border-box;top: 0;bottom: 0;left: 50%;z-index: 0;}#sk-container-id-1 div.sk-serial {display: flex;flex-direction: column;align-items: center;background-color: white;padding-right: 0.2em;padding-left: 0.2em;position: relative;}#sk-container-id-1 div.sk-item {position: relative;z-index: 1;}#sk-container-id-1 div.sk-parallel {display: flex;align-items: stretch;justify-content: center;background-color: white;position: relative;}#sk-container-id-1 div.sk-item::before, #sk-container-id-1 div.sk-parallel-item::before {content: \"\";position: absolute;border-left: 1px solid gray;box-sizing: border-box;top: 0;bottom: 0;left: 50%;z-index: -1;}#sk-container-id-1 div.sk-parallel-item {display: flex;flex-direction: column;z-index: 1;position: relative;background-color: white;}#sk-container-id-1 div.sk-parallel-item:first-child::after {align-self: flex-end;width: 50%;}#sk-container-id-1 div.sk-parallel-item:last-child::after {align-self: flex-start;width: 50%;}#sk-container-id-1 div.sk-parallel-item:only-child::after {width: 0;}#sk-container-id-1 div.sk-dashed-wrapped {border: 1px dashed gray;margin: 0 0.4em 0.5em 0.4em;box-sizing: border-box;padding-bottom: 0.4em;background-color: white;}#sk-container-id-1 div.sk-label label {font-family: monospace;font-weight: bold;display: inline-block;line-height: 1.2em;}#sk-container-id-1 div.sk-label-container {text-align: center;}#sk-container-id-1 div.sk-container {/* jupyter's `normalize.less` sets `[hidden] { display: none; }` but bootstrap.min.css set `[hidden] { display: none !important; }` so we also need the `!important` here to be able to override the default hidden behavior on the sphinx rendered scikit-learn.org. See: https://github.com/scikit-learn/scikit-learn/issues/21755 */display: inline-block !important;position: relative;}#sk-container-id-1 div.sk-text-repr-fallback {display: none;}</style><div id=\"sk-container-id-1\" class=\"sk-top-container\"><div class=\"sk-text-repr-fallback\"><pre>GridSearchCV(cv=3,\n",
       "             estimator=Pipeline(steps=[(&#x27;reduce_dim&#x27;,\n",
       "                                        TruncatedSVD(n_components=50)),\n",
       "                                       (&#x27;kpca&#x27;, KernelPCA(n_components=2)),\n",
       "                                       (&#x27;log_clf&#x27;, LogisticRegression())]),\n",
       "             param_grid=[{&#x27;kpca__gamma&#x27;: array([0.03      , 0.03222222, 0.03444444, 0.03666667, 0.03888889,\n",
       "       0.04111111, 0.04333333, 0.04555556, 0.04777778, 0.05      ]),\n",
       "                          &#x27;kpca__kernel&#x27;: [&#x27;rbf&#x27;, &#x27;sigmoid&#x27;]}])</pre><b>In a Jupyter environment, please rerun this cell to show the HTML representation or trust the notebook. <br />On GitHub, the HTML representation is unable to render, please try loading this page with nbviewer.org.</b></div><div class=\"sk-container\" hidden><div class=\"sk-item sk-dashed-wrapped\"><div class=\"sk-label-container\"><div class=\"sk-label sk-toggleable\"><input class=\"sk-toggleable__control sk-hidden--visually\" id=\"sk-estimator-id-1\" type=\"checkbox\" ><label for=\"sk-estimator-id-1\" class=\"sk-toggleable__label sk-toggleable__label-arrow\">GridSearchCV</label><div class=\"sk-toggleable__content\"><pre>GridSearchCV(cv=3,\n",
       "             estimator=Pipeline(steps=[(&#x27;reduce_dim&#x27;,\n",
       "                                        TruncatedSVD(n_components=50)),\n",
       "                                       (&#x27;kpca&#x27;, KernelPCA(n_components=2)),\n",
       "                                       (&#x27;log_clf&#x27;, LogisticRegression())]),\n",
       "             param_grid=[{&#x27;kpca__gamma&#x27;: array([0.03      , 0.03222222, 0.03444444, 0.03666667, 0.03888889,\n",
       "       0.04111111, 0.04333333, 0.04555556, 0.04777778, 0.05      ]),\n",
       "                          &#x27;kpca__kernel&#x27;: [&#x27;rbf&#x27;, &#x27;sigmoid&#x27;]}])</pre></div></div></div><div class=\"sk-parallel\"><div class=\"sk-parallel-item\"><div class=\"sk-item\"><div class=\"sk-label-container\"><div class=\"sk-label sk-toggleable\"><input class=\"sk-toggleable__control sk-hidden--visually\" id=\"sk-estimator-id-2\" type=\"checkbox\" ><label for=\"sk-estimator-id-2\" class=\"sk-toggleable__label sk-toggleable__label-arrow\">estimator: Pipeline</label><div class=\"sk-toggleable__content\"><pre>Pipeline(steps=[(&#x27;reduce_dim&#x27;, TruncatedSVD(n_components=50)),\n",
       "                (&#x27;kpca&#x27;, KernelPCA(n_components=2)),\n",
       "                (&#x27;log_clf&#x27;, LogisticRegression())])</pre></div></div></div><div class=\"sk-serial\"><div class=\"sk-item\"><div class=\"sk-serial\"><div class=\"sk-item\"><div class=\"sk-estimator sk-toggleable\"><input class=\"sk-toggleable__control sk-hidden--visually\" id=\"sk-estimator-id-3\" type=\"checkbox\" ><label for=\"sk-estimator-id-3\" class=\"sk-toggleable__label sk-toggleable__label-arrow\">TruncatedSVD</label><div class=\"sk-toggleable__content\"><pre>TruncatedSVD(n_components=50)</pre></div></div></div><div class=\"sk-item\"><div class=\"sk-estimator sk-toggleable\"><input class=\"sk-toggleable__control sk-hidden--visually\" id=\"sk-estimator-id-4\" type=\"checkbox\" ><label for=\"sk-estimator-id-4\" class=\"sk-toggleable__label sk-toggleable__label-arrow\">KernelPCA</label><div class=\"sk-toggleable__content\"><pre>KernelPCA(n_components=2)</pre></div></div></div><div class=\"sk-item\"><div class=\"sk-estimator sk-toggleable\"><input class=\"sk-toggleable__control sk-hidden--visually\" id=\"sk-estimator-id-5\" type=\"checkbox\" ><label for=\"sk-estimator-id-5\" class=\"sk-toggleable__label sk-toggleable__label-arrow\">LogisticRegression</label><div class=\"sk-toggleable__content\"><pre>LogisticRegression()</pre></div></div></div></div></div></div></div></div></div></div></div></div>"
      ],
      "text/plain": [
       "GridSearchCV(cv=3,\n",
       "             estimator=Pipeline(steps=[('reduce_dim',\n",
       "                                        TruncatedSVD(n_components=50)),\n",
       "                                       ('kpca', KernelPCA(n_components=2)),\n",
       "                                       ('log_clf', LogisticRegression())]),\n",
       "             param_grid=[{'kpca__gamma': array([0.03      , 0.03222222, 0.03444444, 0.03666667, 0.03888889,\n",
       "       0.04111111, 0.04333333, 0.04555556, 0.04777778, 0.05      ]),\n",
       "                          'kpca__kernel': ['rbf', 'sigmoid']}])"
      ]
     },
     "execution_count": 66,
     "metadata": {},
     "output_type": "execute_result"
    }
   ],
   "source": [
    "from sklearn.model_selection import GridSearchCV\n",
    "from sklearn.linear_model import LogisticRegression\n",
    "from sklearn.pipeline import Pipeline\n",
    "from sklearn.decomposition import TruncatedSVD\n",
    "\n",
    "X_subset, _, y_subset, _ = train_test_split(X, y, train_size=10000, stratify=y, random_state=42)\n",
    "\n",
    "\n",
    "clf_pip=Pipeline([\n",
    "    (\"reduce_dim\", TruncatedSVD(n_components=50)),\n",
    "    (\"kpca\" , KernelPCA(n_components=2)),\n",
    "    ('log_clf',LogisticRegression())\n",
    "])\n",
    "\n",
    "param_grid=[{\n",
    "    \"kpca__gamma\":np.linspace(0.03,0.05,10),\n",
    "    \"kpca__kernel\":['rbf','sigmoid']\n",
    "}]\n",
    "\n",
    "gs=GridSearchCV(clf_pip,param_grid,cv=3)\n",
    "gs.fit(X_subset,y_subset)"
   ]
  },
  {
   "cell_type": "code",
   "execution_count": 67,
   "metadata": {},
   "outputs": [
    {
     "data": {
      "text/plain": [
       "{'kpca__gamma': 0.03666666666666667, 'kpca__kernel': 'sigmoid'}"
      ]
     },
     "execution_count": 67,
     "metadata": {},
     "output_type": "execute_result"
    }
   ],
   "source": [
    "gs.best_params_"
   ]
  },
  {
   "cell_type": "markdown",
   "metadata": {},
   "source": [
    "## **LLE (Locally Linear Embedding)** ##"
   ]
  },
  {
   "cell_type": "markdown",
   "metadata": {},
   "source": [
    "- **It is another very important non linear transformation algorithm . It's a manifold learning technique which does not rely on projections. It works by first measuring how much each training instance related to its neighbors and then look for a low dimensional representation of the dataset while preserving these local relationships as much as possible**"
   ]
  },
  {
   "cell_type": "code",
   "execution_count": null,
   "metadata": {},
   "outputs": [],
   "source": [
    "from sklearn.manifold import LocallyLinearEmbedding\n",
    "le=LocallyLinearEmbedding(n_components=2,n_neighbors=10)\n",
    "reduced_le=le.fit_transform(X)"
   ]
  }
 ],
 "metadata": {
  "kernelspec": {
   "display_name": "Python 3",
   "language": "python",
   "name": "python3"
  },
  "language_info": {
   "codemirror_mode": {
    "name": "ipython",
    "version": 3
   },
   "file_extension": ".py",
   "mimetype": "text/x-python",
   "name": "python",
   "nbconvert_exporter": "python",
   "pygments_lexer": "ipython3",
   "version": "3.12.4"
  }
 },
 "nbformat": 4,
 "nbformat_minor": 2
}
